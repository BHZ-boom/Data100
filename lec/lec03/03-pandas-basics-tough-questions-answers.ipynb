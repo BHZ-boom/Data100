{
 "cells": [
  {
   "cell_type": "code",
   "execution_count": null,
   "metadata": {},
   "outputs": [],
   "source": [
    "%matplotlib inline\n",
    "import matplotlib.pyplot as plt\n",
    "import seaborn as sns\n",
    "import numpy as np\n",
    "import pandas as pd\n",
    "\n",
    "plt.style.use('fivethirtyeight')\n",
    "sns.set_context(\"notebook\")"
   ]
  },
  {
   "cell_type": "markdown",
   "metadata": {},
   "source": [
    "Now let's play around a bit with the large baby names dataset we saw in lecture 1. We'll start by loading that dataset from the social security administration's website.\n",
    "\n",
    "To keep the data small enough to avoid crashing datahub, we're going to look at only California rather than looking at the national dataset."
   ]
  },
  {
   "cell_type": "code",
   "execution_count": null,
   "metadata": {},
   "outputs": [],
   "source": [
    "import urllib.request\n",
    "import os.path\n",
    "import zipfile\n",
    "\n",
    "data_url = \"https://www.ssa.gov/oact/babynames/state/namesbystate.zip\"\n",
    "local_filename = \"babynamesbystate.zip\"\n",
    "if not os.path.exists(local_filename): # if the data exists don't download again\n",
    "    with urllib.request.urlopen(data_url) as resp, open(local_filename, 'wb') as f:\n",
    "        f.write(resp.read())\n",
    "\n",
    "zf = zipfile.ZipFile(local_filename, 'r')\n",
    "\n",
    "ca_name = 'CA.TXT'\n",
    "field_names = ['State', 'Sex', 'Year', 'Name', 'Count']\n",
    "with zf.open(ca_name) as fh:\n",
    "    babynames = pd.read_csv(fh, header=None, names=field_names)\n",
    "\n",
    "babynames.sample(5)"
   ]
  },
  {
   "cell_type": "markdown",
   "metadata": {},
   "source": [
    "## Goal 1: Find the most popular baby name in California in 2018"
   ]
  },
  {
   "cell_type": "code",
   "execution_count": null,
   "metadata": {},
   "outputs": [],
   "source": [
    "babynames[babynames[\"Year\"] == 2018].sort_values(by = \"Count\", ascending = False).head(5)"
   ]
  },
  {
   "cell_type": "markdown",
   "metadata": {},
   "source": [
    "## Goal 2: Baby names that start with j. "
   ]
  },
  {
   "cell_type": "code",
   "execution_count": null,
   "metadata": {},
   "outputs": [],
   "source": [
    "starts_with_j = babynames[\"Name\"].str.startswith('J')\n",
    "starts_with_j.head(10)"
   ]
  },
  {
   "cell_type": "code",
   "execution_count": null,
   "metadata": {},
   "outputs": [],
   "source": [
    "pd.DataFrame(babynames[starts_with_j][\"Name\"].unique()).sample(10)"
   ]
  },
  {
   "cell_type": "markdown",
   "metadata": {},
   "source": [
    "## Goal 3: Sort the DataFrame by the length of the names."
   ]
  },
  {
   "cell_type": "markdown",
   "metadata": {},
   "source": [
    "Approach 1a: Create a new series of only the lengths. Then add that series to the dataframe as a column. Then sort by that column. Then drop that column."
   ]
  },
  {
   "cell_type": "code",
   "execution_count": null,
   "metadata": {},
   "outputs": [],
   "source": [
    "#create a new series of only the lengths\n",
    "babyname_lengths = babynames[\"Name\"].map(len)\n",
    "\n",
    "#add that series to the dataframe as a column\n",
    "babynames[\"name_length\"] = babyname_lengths\n",
    "\n",
    "#sort by that column\n",
    "babynames_by_length = babynames.sort_values(by = \"name_length\")\n",
    "\n",
    "#drop that column\n",
    "babynames_by_length = babynames_by_length.drop(\"name_length\", axis=1)\n",
    "babynames_by_length.head(5)"
   ]
  },
  {
   "cell_type": "markdown",
   "metadata": {},
   "source": [
    "Approach 1b: Same as 1a, but use str.len() to generate the lengths of the strings."
   ]
  },
  {
   "cell_type": "code",
   "execution_count": null,
   "metadata": {
    "scrolled": true
   },
   "outputs": [],
   "source": [
    "#create a new series of only the lengths\n",
    "babyname_lengths = babynames[\"Name\"].str.len()\n",
    "\n",
    "#add that series to the dataframe as a column\n",
    "babynames[\"name_length\"] = babyname_lengths\n",
    "\n",
    "#sort by that column\n",
    "babynames_by_length = babynames.sort_values(by = \"name_length\")\n",
    "\n",
    "#drop that column\n",
    "babynames_by_length = babynames_by_length.drop(\"name_length\", axis=1)\n",
    "babynames_by_length.head(5)"
   ]
  },
  {
   "cell_type": "markdown",
   "metadata": {},
   "source": [
    "Approach 2: Generate an index that is in the order we want. Pass that index to loc."
   ]
  },
  {
   "cell_type": "code",
   "execution_count": null,
   "metadata": {},
   "outputs": [],
   "source": [
    "babynames.loc[babynames[\"Name\"].str.len().sort_values().index].head(5)"
   ]
  },
  {
   "cell_type": "markdown",
   "metadata": {},
   "source": [
    "How does this work exactly? Let's break it into pieces."
   ]
  },
  {
   "cell_type": "code",
   "execution_count": null,
   "metadata": {},
   "outputs": [],
   "source": [
    "lengths_sorted_by_length = babynames[\"Name\"].str.len().sort_values()\n",
    "lengths_sorted_by_length.head(5)"
   ]
  },
  {
   "cell_type": "code",
   "execution_count": null,
   "metadata": {},
   "outputs": [],
   "source": [
    "index_sorted_by_length = lengths_sorted_by_length.index\n",
    "index_sorted_by_length"
   ]
  },
  {
   "cell_type": "code",
   "execution_count": null,
   "metadata": {},
   "outputs": [],
   "source": [
    "# now pass the index to loc. This is yet another way \n",
    "# that loc can be used that we did not discuss in lecture!\n",
    "babynames.loc[index_sorted_by_length].head(5)"
   ]
  }
 ],
 "metadata": {
  "kernelspec": {
   "display_name": "Python 3 (ipykernel)",
   "language": "python",
   "name": "python3"
  },
  "language_info": {
   "codemirror_mode": {
    "name": "ipython",
    "version": 3
   },
   "file_extension": ".py",
   "mimetype": "text/x-python",
   "name": "python",
   "nbconvert_exporter": "python",
   "pygments_lexer": "ipython3",
   "version": "3.9.9"
  }
 },
 "nbformat": 4,
 "nbformat_minor": 4
}
